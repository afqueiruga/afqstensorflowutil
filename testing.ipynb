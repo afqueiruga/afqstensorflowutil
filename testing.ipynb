{
 "cells": [
  {
   "cell_type": "code",
   "execution_count": 1,
   "metadata": {},
   "outputs": [],
   "source": [
    "import tensorflow as tf\n",
    "import numpy as np\n",
    "from operations import NewtonsMethod, NewtonsMethod2, vector_gradient2"
   ]
  },
  {
   "cell_type": "markdown",
   "metadata": {},
   "source": [
    "This notebook just makes sure the logic to Newton's method handles various shapes. It's in a notebook to do interactive shape-debugging."
   ]
  },
  {
   "cell_type": "code",
   "execution_count": 2,
   "metadata": {},
   "outputs": [],
   "source": [
    "sess = tf.InteractiveSession()"
   ]
  },
  {
   "cell_type": "markdown",
   "metadata": {},
   "source": [
    "1) Scalar equation."
   ]
  },
  {
   "cell_type": "code",
   "execution_count": 4,
   "metadata": {},
   "outputs": [
    {
     "name": "stdout",
     "output_type": "stream",
     "text": [
      "(3.5527137e-15, array([0.99999994], dtype=float32))\n"
     ]
    }
   ],
   "source": [
    "a = tf.Variable(tf.truncated_normal(shape=(1,)))\n",
    "goal = tf.losses.mean_squared_error( np.array((1.0,)),a)\n",
    "step = NewtonsMethod2(goal,a)\n",
    "sess.run(tf.global_variables_initializer())\n",
    "sess.run(step)\n",
    "g,a_val = sess.run([goal,a])\n",
    "print(g,a_val)\n",
    "assert( np.abs(a_val-1.0) < 1.0e-6)"
   ]
  },
  {
   "cell_type": "markdown",
   "metadata": {},
   "source": [
    "2) Vector Equation"
   ]
  },
  {
   "cell_type": "code",
   "execution_count": 5,
   "metadata": {},
   "outputs": [
    {
     "name": "stdout",
     "output_type": "stream",
     "text": [
      "(7.1054275e-16, array([1.        , 0.99999994, 1.        , 1.        , 1.        ],\n",
      "      dtype=float32))\n",
      "5.960464477539063e-08\n"
     ]
    }
   ],
   "source": [
    "a = tf.Variable(tf.truncated_normal(shape=(5,)))\n",
    "ans = np.ones(shape=(5,))\n",
    "goal = tf.losses.mean_squared_error( ans,a)\n",
    "step = NewtonsMethod2(goal,a)\n",
    "sess.run(tf.global_variables_initializer())\n",
    "sess.run(step)\n",
    "g,a_val = sess.run([goal,a])\n",
    "print(g,a_val)\n",
    "print(np.linalg.norm(a_val-ans))\n",
    "assert( np.linalg.norm(a_val-ans) < 1.0e-6) #32bit precision"
   ]
  },
  {
   "cell_type": "markdown",
   "metadata": {},
   "source": [
    "3) Matrix Equation"
   ]
  },
  {
   "cell_type": "code",
   "execution_count": 6,
   "metadata": {},
   "outputs": [
    {
     "name": "stdout",
     "output_type": "stream",
     "text": [
      "(4.973799e-15, array([[0.9999999 , 0.9999999 , 1.        , 1.        , 1.0000001 ],\n",
      "       [1.        , 0.99999994, 0.9999999 , 1.        , 0.9999998 ],\n",
      "       [1.        , 1.        , 1.        , 1.        , 1.        ],\n",
      "       [1.        , 1.        , 1.0000001 , 1.        , 1.        ],\n",
      "       [0.99999994, 1.        , 0.9999999 , 1.        , 1.        ]],\n",
      "      dtype=float32))\n",
      "3.5262583393452264e-07\n"
     ]
    }
   ],
   "source": [
    "a = tf.Variable(tf.truncated_normal(shape=(5,5)))\n",
    "ans = np.ones(shape=(5,5))\n",
    "goal = tf.losses.mean_squared_error( ans,a)\n",
    "step = NewtonsMethod2(goal,a)\n",
    "sess.run(tf.global_variables_initializer())\n",
    "sess.run(step)\n",
    "g,a_val = sess.run([goal,a])\n",
    "print(g,a_val)\n",
    "print(np.linalg.norm(a_val-ans))\n",
    "assert( np.linalg.norm(a_val-ans) < 1.0e-6) #32bit precision"
   ]
  }
 ],
 "metadata": {
  "kernelspec": {
   "display_name": "Python 3",
   "language": "python",
   "name": "python3"
  },
  "language_info": {
   "codemirror_mode": {
    "name": "ipython",
    "version": 2
   },
   "file_extension": ".py",
   "mimetype": "text/x-python",
   "name": "python",
   "nbconvert_exporter": "python",
   "pygments_lexer": "ipython2",
   "version": "2.7.15"
  }
 },
 "nbformat": 4,
 "nbformat_minor": 2
}
