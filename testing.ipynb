{
 "cells": [
  {
   "cell_type": "code",
   "execution_count": 1,
   "metadata": {},
   "outputs": [],
   "source": [
    "import tensorflow as tf\n",
    "import numpy as np\n",
    "from operations import NewtonsMethod, NewtonsMethod2, vector_gradient2, flatpack"
   ]
  },
  {
   "cell_type": "markdown",
   "metadata": {},
   "source": [
    "This notebook just makes sure the logic to Newton's method handles various shapes. It's in a notebook to do interactive shape-debugging."
   ]
  },
  {
   "cell_type": "code",
   "execution_count": 2,
   "metadata": {},
   "outputs": [],
   "source": [
    "sess = tf.InteractiveSession()"
   ]
  },
  {
   "cell_type": "code",
   "execution_count": 3,
   "metadata": {},
   "outputs": [],
   "source": [
    "list_of_tensors=[ tf.zeros(shape=(3,3)), tf.zeros(shape=(3,1)) ]"
   ]
  },
  {
   "cell_type": "code",
   "execution_count": 4,
   "metadata": {},
   "outputs": [
    {
     "data": {
      "text/plain": [
       "<tf.Tensor 'concat:0' shape=(12,) dtype=float32>"
      ]
     },
     "execution_count": 4,
     "metadata": {},
     "output_type": "execute_result"
    }
   ],
   "source": [
    "flatpack(list_of_tensors)"
   ]
  },
  {
   "cell_type": "markdown",
   "metadata": {},
   "source": [
    "1) Scalar equation."
   ]
  },
  {
   "cell_type": "code",
   "execution_count": 5,
   "metadata": {},
   "outputs": [
    {
     "name": "stdout",
     "output_type": "stream",
     "text": [
      "[(0, 1)]\n",
      "(1, 1)\n",
      "(0.0, array([1.], dtype=float32))\n"
     ]
    }
   ],
   "source": [
    "a = tf.Variable(tf.truncated_normal(shape=(1,)))\n",
    "goal = tf.losses.mean_squared_error( np.array((1.0,)),a)\n",
    "step = NewtonsMethod2(goal,a)\n",
    "sess.run(tf.global_variables_initializer())\n",
    "sess.run(step)\n",
    "g,a_val = sess.run([goal,a])\n",
    "print(g,a_val)\n",
    "assert( np.abs(a_val-1.0) < 1.0e-6)"
   ]
  },
  {
   "cell_type": "markdown",
   "metadata": {},
   "source": [
    "2) Vector Equation"
   ]
  },
  {
   "cell_type": "code",
   "execution_count": 6,
   "metadata": {},
   "outputs": [
    {
     "name": "stdout",
     "output_type": "stream",
     "text": [
      "[(0, 5)]\n",
      "(5, 1)\n",
      "(0.0, array([1., 1., 1., 1., 1.], dtype=float32))\n",
      "0.0\n"
     ]
    }
   ],
   "source": [
    "a = tf.Variable(tf.truncated_normal(shape=(5,)))\n",
    "ans = np.ones(shape=(5,))\n",
    "goal = tf.losses.mean_squared_error( ans,a)\n",
    "step = NewtonsMethod2(goal,a)\n",
    "sess.run(tf.global_variables_initializer())\n",
    "sess.run(step)\n",
    "g,a_val = sess.run([goal,a])\n",
    "print(g,a_val)\n",
    "print(np.linalg.norm(a_val-ans))\n",
    "assert( np.linalg.norm(a_val-ans) < 1.0e-6) #32bit precision"
   ]
  },
  {
   "cell_type": "markdown",
   "metadata": {},
   "source": [
    "3) Matrix Equation"
   ]
  },
  {
   "cell_type": "code",
   "execution_count": 7,
   "metadata": {},
   "outputs": [
    {
     "name": "stdout",
     "output_type": "stream",
     "text": [
      "[(0, 25)]\n",
      "(25, 1)\n",
      "(6.1106676e-15, array([[1.        , 0.99999994, 0.9999998 , 1.        , 1.        ],\n",
      "       [1.        , 0.99999994, 0.99999976, 1.0000001 , 0.9999999 ],\n",
      "       [1.        , 1.        , 1.        , 1.        , 0.9999999 ],\n",
      "       [1.        , 0.9999999 , 1.        , 1.        , 1.        ],\n",
      "       [1.        , 1.        , 1.        , 1.        , 1.        ]],\n",
      "      dtype=float32))\n",
      "3.9085379387748244e-07\n"
     ]
    }
   ],
   "source": [
    "a = tf.Variable(tf.truncated_normal(shape=(5,5)))\n",
    "ans = np.ones(shape=(5,5))\n",
    "goal = tf.losses.mean_squared_error( ans,a)\n",
    "step = NewtonsMethod2(goal,a)\n",
    "sess.run(tf.global_variables_initializer())\n",
    "sess.run(step)\n",
    "g,a_val = sess.run([goal,a])\n",
    "print(g,a_val)\n",
    "print(np.linalg.norm(a_val-ans))\n",
    "assert( np.linalg.norm(a_val-ans) < 1.0e-6) #32bit precision"
   ]
  },
  {
   "cell_type": "markdown",
   "metadata": {},
   "source": [
    "4) Linear equation, two variables"
   ]
  },
  {
   "cell_type": "code",
   "execution_count": 9,
   "metadata": {},
   "outputs": [
    {
     "name": "stdout",
     "output_type": "stream",
     "text": [
      "[(0, 1), (1, 2)]\n",
      "(2, 1)\n",
      "(2.842171e-14, array([[3.0000002]], dtype=float32), array([1.9999998], dtype=float32))\n",
      "10.000001192092896\n"
     ]
    }
   ],
   "source": [
    "a = tf.Variable(tf.truncated_normal(shape=(1,1)))\n",
    "b = tf.Variable(tf.truncated_normal(shape=(1,)))\n",
    "x = tf.constant([0,1],dtype=tf.float32)\n",
    "y_true = tf.constant([[2,5]],dtype=tf.float32)\n",
    "y_pred = a*x+b\n",
    "goal = tf.losses.mean_squared_error( y_true,y_pred)\n",
    "step = NewtonsMethod2(goal,[a,b])\n",
    "sess.run(tf.global_variables_initializer())\n",
    "sess.run(step)\n",
    "g,a_val,b_val = sess.run([goal,a,b])\n",
    "print(g,a_val,b_val)\n",
    "print(np.linalg.norm(a_val-ans))\n",
    "assert( np.linalg.norm(a_val-3) < 1.0e-6) #32bit precision\n",
    "assert( np.linalg.norm(b_val-2) < 1.0e-6) #32bit precision"
   ]
  },
  {
   "cell_type": "code",
   "execution_count": null,
   "metadata": {},
   "outputs": [],
   "source": []
  }
 ],
 "metadata": {
  "kernelspec": {
   "display_name": "Python 3",
   "language": "python",
   "name": "python3"
  },
  "language_info": {
   "codemirror_mode": {
    "name": "ipython",
    "version": 2
   },
   "file_extension": ".py",
   "mimetype": "text/x-python",
   "name": "python",
   "nbconvert_exporter": "python",
   "pygments_lexer": "ipython2",
   "version": "2.7.15"
  }
 },
 "nbformat": 4,
 "nbformat_minor": 2
}
